{
 "cells": [
  {
   "cell_type": "code",
   "execution_count": null,
   "metadata": {},
   "outputs": [],
   "source": [
    "import configparser\n",
    "import time\n",
    "import numpy as np\n",
    "import os\n",
    "import tensorflow as tf\n",
    "from utils import make_or_restore_model\n",
    "from generator import input_fn\n",
    "import configparser\n",
    "\n",
    "params = configparser.ConfigParser()\n",
    "params._interpolation = configparser.ExtendedInterpolation()\n",
    "params.read('./config.ini')\n",
    "\n",
    "model = make_or_restore_model(params=params)\n",
    "\n",
    "# callbacks to save the model\n",
    "path_logs = os.path.abspath(params['DIRECTORIES']['logs'])\n",
    "\n",
    "callbacks = [tf.keras.callbacks.ModelCheckpoint(filepath=  path_logs + \"/ckpt/weights.{epoch:02d}-{loss:.2f}.hdf5\", save_freq='epoch', monitor='loss', save_best_only=False), \n",
    "            tf.keras.callbacks.TensorBoard(log_dir=path_logs + \"/logs\", update_freq=1000),\n",
    "            tf.keras.callbacks.EarlyStopping(monitor='val_loss', patience=1, mode='min', min_delta=0.005)\n",
    "            ]\n",
    "\n",
    "train_dataset = input_fn(data_path=os.path.abspath(params[\"DIRECTORIES\"][\"train\"]), validation=False)\n",
    "val_dataset = input_fn(data_path=os.path.abspath(params[\"DIRECTORIES\"][\"validation\"]), validation=True)\n",
    "\n",
    "\n",
    "# Training the model\n",
    "model_history = model.fit(train_dataset,\n",
    "          validation_data= val_dataset,\n",
    "          validation_steps = 600,\n",
    "          steps_per_epoch=1600,\n",
    "          batch_size=16,\n",
    "          epochs=2000,\n",
    "          callbacks=callbacks,\n",
    "          use_multiprocessing=True)"
   ]
  },
  {
   "cell_type": "code",
   "execution_count": null,
   "metadata": {},
   "outputs": [],
   "source": [
    "model.evaluate(val_dataset)"
   ]
  }
 ],
 "metadata": {
  "language_info": {
   "name": "python"
  },
  "orig_nbformat": 4
 },
 "nbformat": 4,
 "nbformat_minor": 2
}
